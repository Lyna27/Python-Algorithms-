{
  "nbformat": 4,
  "nbformat_minor": 0,
  "metadata": {
    "colab": {
      "provenance": [],
      "collapsed_sections": []
    },
    "kernelspec": {
      "name": "python3",
      "display_name": "Python 3"
    },
    "language_info": {
      "name": "python"
    }
  },
  "cells": [
    {
      "cell_type": "code",
      "execution_count": null,
      "metadata": {
        "colab": {
          "base_uri": "https://localhost:8080/"
        },
        "id": "GdIO4o4DBR_L",
        "outputId": "53266fbf-3cfa-4701-9a4b-f8d65ff5901b"
      },
      "outputs": [
        {
          "output_type": "execute_result",
          "data": {
            "text/plain": [
              "3"
            ]
          },
          "metadata": {},
          "execution_count": 12
        }
      ],
      "source": [
        "# LE PRINCIPE DE BINARY SEARCH\n",
        " # on cherche la position d'un item donné dans une sequence de chiffres ordonnés \n",
        "def Binary_search(sequence,item): # item = numero qu'on cherche\n",
        "  begin_index=0\n",
        "  end_index=len(sequence)-1 # la taille de la sequence commence par 1,2... mais le 0 compte en 1er donc on diminue une position\n",
        "  while begin_index <= end_index :\n",
        "    mid_index= begin_index + (end_index - begin_index)//2 # declarer la position du milieu\n",
        "    mid_value = sequence[mid_index] # pour afficher la valeur du midpoint\n",
        "    if mid_value < item :\n",
        "      begin_index= mid_index + 1\n",
        "    elif mid_value > item :\n",
        "      end_index = mid_index - 1\n",
        "    else : # mid_value==item, seule possibilté restante donc pas la peine de l'ecrire\n",
        "      return(mid_index)\n",
        "  return(None) # Dans le cas ou le chiffre ne figure pas dans la séquence\n",
        "seq1= [5,10,11,12,36,87]\n",
        "seq2=[4,8,16,33,90,100,300]\n",
        "Binary_search(seq1,12)"
      ]
    },
    {
      "cell_type": "code",
      "source": [
        "Binary_search(seq2,300)"
      ],
      "metadata": {
        "colab": {
          "base_uri": "https://localhost:8080/"
        },
        "id": "eJPkXFaqJG36",
        "outputId": "19536916-f127-432f-f468-b4447421cfb8"
      },
      "execution_count": null,
      "outputs": [
        {
          "output_type": "execute_result",
          "data": {
            "text/plain": [
              "6"
            ]
          },
          "metadata": {},
          "execution_count": 13
        }
      ]
    },
    {
      "cell_type": "code",
      "source": [
        "# Question1 Write a Python program for a binary search.\n",
        "def Binary_search(sequence,item): \n",
        "  begin_index=0\n",
        "  end_index=len(sequence)-1 \n",
        "  while begin_index <= end_index :\n",
        "    mid_index= begin_index + (end_index - begin_index)//2 \n",
        "    mid_value = sequence[mid_index] \n",
        "    if mid_value < item :\n",
        "      begin_index= mid_index + 1\n",
        "    elif mid_value > item :\n",
        "      end_index = mid_index - 1\n",
        "    else : \n",
        "      return(True)\n",
        "  return(False) \n",
        "list1=[1,2,3,5,8]\n",
        "list2=[1,2,3,5,8] \n",
        "print(Binary_search(list1,6))\n",
        "print(Binary_search(list2,5))"
      ],
      "metadata": {
        "colab": {
          "base_uri": "https://localhost:8080/"
        },
        "id": "z1nUlIDoNCQu",
        "outputId": "f1d63117-f545-46b2-878c-ce341678deaa"
      },
      "execution_count": null,
      "outputs": [
        {
          "output_type": "stream",
          "name": "stdout",
          "text": [
            "5\n",
            "False\n",
            "True\n"
          ]
        }
      ]
    },
    {
      "cell_type": "code",
      "source": [
        "#LE PRINCIPE DE BUBBLE SORTING ALGIRITHM\n",
        "# On cherche a ordonner des elements contenus dans une liste désordonnée\n",
        "#La méthode consiste à parcourir la liste en comparant les éléments 2 à 2 et en echangeant leurs places jusqu'a l'obtention d'une liste ordonnée\n",
        "#Question3 Méthode1\n",
        "def bubblesort(elements):\n",
        "\tswapped = False\n",
        "\t# Looping from size of array from last index[-1] to index [0]\n",
        "\tfor i in range(len(elements)-1, 0, -1): # (start,stop,step)\n",
        "\t\tfor j in range(i):\n",
        "\t\t\tif elements[j] > elements[j + 1]:\n",
        "\t\t\t\tswapped = True # swapping data if the element is less than next element in the array\n",
        "\t\t\t\telements[j], elements[j + 1] = elements[j + 1], elements[i]\t\n",
        "\t\tif not swapped:\n",
        "\t\t\t# exiting the function if we didn't make a single swap\n",
        "\t\t\t# meaning that the array is already sorted.\n",
        "\t\t\treturn()\n",
        "elements = [39, 12, 18, 85, 72, 10, 2, 18]\n",
        "bubblesort(elements)\n",
        "print(elements)\n"
      ],
      "metadata": {
        "colab": {
          "base_uri": "https://localhost:8080/"
        },
        "id": "E8WF1660UqZX",
        "outputId": "411cf679-28f0-4fa3-f7fe-2679748fd159"
      },
      "execution_count": null,
      "outputs": [
        {
          "output_type": "stream",
          "name": "stdout",
          "text": [
            "[2, 18, 18, 18, 18, 18, 18, 18]\n"
          ]
        }
      ]
    },
    {
      "cell_type": "code",
      "source": [
        "#Question3 Méthode2\n",
        "def bubbleSort(nlist):\n",
        "    for passnum in range(len(nlist)-1,0,-1):\n",
        "        for i in range(passnum):\n",
        "            if nlist[i]>nlist[i+1]:\n",
        "                temp = nlist[i]\n",
        "                nlist[i] = nlist[i+1]\n",
        "                nlist[i+1] = temp\n",
        "    return nlist\n",
        "\n",
        "nlist = [39, 12, 18, 85, 72, 10, 2, 18]\n",
        "bubbleSort(nlist)"
      ],
      "metadata": {
        "colab": {
          "base_uri": "https://localhost:8080/"
        },
        "id": "F4541bnOqBXg",
        "outputId": "033dbc4f-2cd7-4e59-a21a-1d752b8e7944"
      },
      "execution_count": null,
      "outputs": [
        {
          "output_type": "execute_result",
          "data": {
            "text/plain": [
              "[2, 10, 12, 18, 18, 39, 72, 85]"
            ]
          },
          "metadata": {},
          "execution_count": 35
        }
      ]
    },
    {
      "cell_type": "code",
      "source": [
        "#Question4 Write a Python program to sort a list of elements using the merge sort algorithm.\n",
        "def mergeSort(array):\n",
        "    if len(array) > 1:\n",
        "        midpoint = len(array) // 2\n",
        "        left, right = array[:midpoint] , array[midpoint:]\n",
        "        # Recursive call on each half\n",
        "        mergeSort(left)\n",
        "        mergeSort(right)\n",
        "        i = 0 # Two iterators for traversing the two halves\n",
        "        j = 0\n",
        "        k = 0 # Iterator for the main list\n",
        "        while i < len(left) and j < len(right):\n",
        "            if left[i] < right[j]:\n",
        "              myList[k] = left[i] # The value from the left half has been used\n",
        "              i += 1\n",
        "            else:\n",
        "                array[k] = right[j]\n",
        "                j += 1\n",
        "            # Move to the next slot\n",
        "            k += 1\n",
        "        # For all the remaining values\n",
        "        while i < len(left):\n",
        "            array[k] = left[i]\n",
        "            i += 1\n",
        "            k += 1\n",
        "        while j < len(right):\n",
        "            array[k]=right[j]\n",
        "            j += 1\n",
        "            k += 1\n",
        "\n",
        "myList = [54,26,93,17,77,31,44,55,20]\n",
        "mergeSort(myList)\n",
        "print(myList)"
      ],
      "metadata": {
        "colab": {
          "base_uri": "https://localhost:8080/"
        },
        "id": "_gWSY7IlqPga",
        "outputId": "df55e9f5-0d06-47ed-e873-c4f45abc684d"
      },
      "execution_count": null,
      "outputs": [
        {
          "output_type": "stream",
          "name": "stdout",
          "text": [
            "[17, 20, 26, 31, 55, 55, 77, 93, 93]\n"
          ]
        }
      ]
    },
    {
      "cell_type": "code",
      "source": [
        "#Question5 Quick Sort\n",
        "def Quicksort(a_list):\n",
        "    def _quicksort(a_list, low, high):\n",
        "        # must run partition on sections with 2 elements or more\n",
        "        if low < high: \n",
        "            p = partition(a_list, low, high)\n",
        "            _quicksort(a_list, low, p)\n",
        "            _quicksort(a_list, p+1, high)\n",
        "    def partition(a_list, low, high):\n",
        "        pivot = a_list[low]\n",
        "        while True:\n",
        "            while a_list[low] < pivot:\n",
        "                low += 1\n",
        "            while a_list[high] > pivot:\n",
        "                high -= 1\n",
        "            if low >= high:\n",
        "                return high\n",
        "            a_list[low], a_list[high] = a_list[high], a_list[low]\n",
        "            low += 1\n",
        "            high -= 1\n",
        "    _quicksort(a_list, 0, len(a_list)-1)\n",
        "    return a_list\n",
        "liste=[29,13,22,37,52,49,46,71,56]\n",
        "Quicksort(liste)"
      ],
      "metadata": {
        "id": "CTF5LT47_Noy",
        "colab": {
          "base_uri": "https://localhost:8080/"
        },
        "outputId": "0625f6b0-3c8e-4968-c418-16fac021a078"
      },
      "execution_count": 55,
      "outputs": [
        {
          "output_type": "execute_result",
          "data": {
            "text/plain": [
              "[13, 22, 29, 37, 46, 49, 52, 56, 71]"
            ]
          },
          "metadata": {},
          "execution_count": 55
        }
      ]
    },
    {
      "cell_type": "code",
      "source": [
        "#Question2 Write a Python program to calculate the value of 'a' to the power 'b'.\n",
        "def power(a,b):\n",
        "  if b == 0:\n",
        "    return 1\n",
        "  elif b > 0:\n",
        "    return a*power(a,b-1)\n",
        "  else:\n",
        "    return 1/power(a,-b)\n",
        "power(3,4)"
      ],
      "metadata": {
        "colab": {
          "base_uri": "https://localhost:8080/"
        },
        "id": "2Cd7yuwwCRl7",
        "outputId": "c70dc482-b852-4d64-9430-a8e33bc06ceb"
      },
      "execution_count": 68,
      "outputs": [
        {
          "output_type": "execute_result",
          "data": {
            "text/plain": [
              "81"
            ]
          },
          "metadata": {},
          "execution_count": 68
        }
      ]
    }
  ]
}